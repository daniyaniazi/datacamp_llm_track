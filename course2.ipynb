{
 "cells": [
  {
   "cell_type": "markdown",
   "id": "8ced49f0-4c13-4247-baa5-8d411e10eae8",
   "metadata": {},
   "source": [
    "# Intermediate Deep Learning with Pytorch"
   ]
  },
  {
   "cell_type": "markdown",
   "id": "1423008a-9cd7-446f-8e00-85652066a6bd",
   "metadata": {},
   "source": [
    "## Training Robust NN"
   ]
  },
  {
   "cell_type": "markdown",
   "id": "31493773-9903-447a-b3f8-678cda225a3a",
   "metadata": {},
   "source": [
    "# Dataset"
   ]
  },
  {
   "cell_type": "code",
   "execution_count": null,
   "id": "9aa4dd7c-5d70-40f7-9ffa-b667aaa8a690",
   "metadata": {},
   "outputs": [],
   "source": [
    "from torch.utils.data import Dataset\n",
    "import pandas as pd"
   ]
  },
  {
   "cell_type": "code",
   "execution_count": null,
   "id": "4c8212e4-fb7b-4f4e-a1da-b396528a6ba0",
   "metadata": {},
   "outputs": [],
   "source": [
    "class WaterDataset(Dataset):\n",
    "    def __init__(self,csv_path):\n",
    "        super().__init__()\n",
    "        df = pd.read_csv(csv_path)\n",
    "        self.data = df.to_numpy()\n",
    "\n",
    "    def __len__(self):\n",
    "        return self.data.shape[0]\n",
    "\n",
    "    def __getItem__(self,idx):\n",
    "        features = self.data[idx,:-1]\n",
    "        label = self.data[idx,-1]\n",
    "        return features, label\n",
    "    "
   ]
  },
  {
   "cell_type": "code",
   "execution_count": null,
   "id": "71faf6bb-35c4-4585-882a-dcd8a0819104",
   "metadata": {
    "scrolled": true
   },
   "outputs": [],
   "source": [
    "dataset_train = WaterDataset(\"water_train.csv\")\n"
   ]
  },
  {
   "cell_type": "code",
   "execution_count": null,
   "id": "9aadf82b-8e3f-489c-b041-52424e2a7222",
   "metadata": {},
   "outputs": [],
   "source": [
    "from torch.utils.data import DataLoader\n",
    "\n",
    "dataloader_train = DataLoader(\n",
    "    dataset_train,batch_size =2,shuffle=True\n",
    ")"
   ]
  },
  {
   "cell_type": "code",
   "execution_count": null,
   "id": "0833f53b-aaa6-4b55-aab6-195f295c1288",
   "metadata": {
    "scrolled": true
   },
   "outputs": [],
   "source": [
    "features,labels = next(iter(dataloader_train))\n",
    "print(f\"features : ${features}, \\nLabels : ${labels}\")"
   ]
  },
  {
   "cell_type": "code",
   "execution_count": null,
   "id": "2d6d433c-dfb3-434a-8c66-42098c19f82d",
   "metadata": {},
   "outputs": [],
   "source": [
    "class Net(nn.Module):\n",
    "    def __init__(self):\n",
    "        super().__init()\n",
    "        self.fc1= nn.Linear(9,16)\n",
    "        self.fc2= nn.Linear(16,8)\n",
    "        self.fc3= nn.Linear(8,1)\n",
    "    def forward(self,x):\n",
    "        x = nn.functional.relu(self.fc1(x))\n",
    "        x = nn.functional.relu(self.fc2(x))\n",
    "        # x = nn.functional.relu(self.fc3(x))\n",
    "        x = nn.functional.sigmoid(self.fc3(x))\n",
    "        return x\n",
    "\n",
    "\n",
    "net = Net()"
   ]
  },
  {
   "cell_type": "code",
   "execution_count": null,
   "id": "41b0a935-4151-4404-b060-48f6aaff3226",
   "metadata": {},
   "outputs": [],
   "source": [
    "# Training loop\n",
    "\n",
    "import torch.nn as nn\n",
    "import torch.optim as optim\n",
    "\n",
    "\n",
    "criterion  = nn.BCEloss()\n",
    "optimizer = optim.SGD(net.paramaters(),lr=0.01)\n",
    "\n",
    "for epoch in range(1000):\n",
    "    for features, labels in dataloader_train:\n",
    "        optmizer.zero_grad() # clear gradients\n",
    "        outputs = net(features) # forward pass\n",
    "        loss = criterion(\n",
    "            outputs , label.view(=1,1)\n",
    "        ) # loss computation\n",
    "        loss.backward() # compute gradients\n",
    "        optmizer.step() # update paramters\n",
    "        \n"
   ]
  },
  {
   "cell_type": "code",
   "execution_count": null,
   "id": "a223b12e-2476-49fb-8d9d-84f73b926090",
   "metadata": {},
   "outputs": [],
   "source": [
    "from torchmetric import Accuracy\n",
    "\n",
    "acc = Accuracy(task=\"binary\")\n",
    "\n",
    "net.eval()\n",
    "with torch.no_grad():\n",
    "    for features, labels in dataloader_test:\n",
    "        outputs = net(features)\n",
    "        preds = (output>=0.5).float()\n",
    "        acc(preds,label.view(-1,1)) # update accuracy metric\n",
    "\n",
    "accuracy = acc.compute()"
   ]
  },
  {
   "cell_type": "markdown",
   "id": "760f25a9-b0f0-4cf2-9bd1-ebbeb7624718",
   "metadata": {},
   "source": [
    "## Good Initalization <br>\n",
    "Var of input layer = variance of output layer <br>\n",
    "var of gradient should be same before and after a layer<br>\n",
    "this depends of activation <br>\n",
    "for Relu , we can use He/Kaiming initailzation"
   ]
  },
  {
   "cell_type": "code",
   "execution_count": null,
   "id": "6571944b-6cb4-4fd2-9256-7cc3e1bbad46",
   "metadata": {},
   "outputs": [],
   "source": [
    "import torch.nn.init as init\n",
    "init.kaiming_uniform_(layer.weight)\n",
    "\n",
    "print(layer.weight)"
   ]
  },
  {
   "cell_type": "code",
   "execution_count": null,
   "id": "9b44d5f5-d42e-4ad6-b35f-52a9652f8074",
   "metadata": {},
   "outputs": [],
   "source": [
    "init.kaiming_uniform_(self.fc1.weight)\n",
    "init.kaiming_uniform_(self.fc2.weight)\n",
    "init.kaiming_uniform_(self.fc1.weight,nonlinearity = \"sigmoid\")"
   ]
  },
  {
   "cell_type": "code",
   "execution_count": null,
   "id": "2f60e8a1-b02f-4154-9e02-d2295671ec8a",
   "metadata": {},
   "outputs": [],
   "source": []
  },
  {
   "cell_type": "code",
   "execution_count": null,
   "id": "a4466f22-4a6e-4acf-b505-2528a4519de1",
   "metadata": {},
   "outputs": [],
   "source": [
    "class Net(nn.Module):\n",
    "    def __init__(self):\n",
    "        super().__init()\n",
    "        self.fc1= nn.Linear(9,16)\n",
    "        self.bn1 = nn.BatchNorm1d(16)\n",
    "    def forward(self,x):\n",
    "        x = nn.fc1(x)\n",
    "        x = nn.bn1(x)\n",
    "        x = nn.functional.elu(x)\n",
    "        return x\n",
    "\n",
    "\n",
    "net = Net()"
   ]
  },
  {
   "cell_type": "code",
   "execution_count": null,
   "id": "903838a0-4d5d-4960-8d5c-304376ffeb62",
   "metadata": {},
   "outputs": [],
   "source": [
    "class Net(nn.Module):\n",
    "    def __init__(self):\n",
    "        super().__init__()\n",
    "        self.fc1 = nn.Linear(9, 16)\n",
    "        # Add two batch normalization layers\n",
    "        self.bn1 = nn.BatchNorm1d(16)\n",
    "        self.fc2 = nn.Linear(16, 8)\n",
    "        self.bn2 = nn.BatchNorm1d(8)\n",
    "        self.fc3 = nn.Linear(8, 1)\n",
    "        \n",
    "        init.kaiming_uniform_(self.fc1.weight)\n",
    "        init.kaiming_uniform_(self.fc2.weight)\n",
    "        init.kaiming_uniform_(self.fc3.weight, nonlinearity=\"sigmoid\")"
   ]
  },
  {
   "cell_type": "markdown",
   "id": "5394aefe-00b9-46df-8204-b88c13dc7d2b",
   "metadata": {},
   "source": [
    "## Images & CNN"
   ]
  },
  {
   "cell_type": "code",
   "execution_count": null,
   "id": "b3b43ff1-0eb9-4882-aada-845037a737a6",
   "metadata": {},
   "outputs": [],
   "source": [
    "!pip install torchvision\n"
   ]
  },
  {
   "cell_type": "code",
   "execution_count": null,
   "id": "bfb0d44f-6136-4ca4-a963-229d4a1d4b84",
   "metadata": {},
   "outputs": [],
   "source": [
    "from torchvision.datasets import ImageFolder\n",
    "from torchvision import transforms\n",
    "\n",
    "train_transform = transforms.Compose([\n",
    "    transforms.ToTensor(),\n",
    "    transforms.Resize((128,128))\n",
    "])"
   ]
  },
  {
   "cell_type": "markdown",
   "id": "5fae95d9-6156-4e5c-89bd-f76b5a749de3",
   "metadata": {},
   "source": [
    "dataset_train = ImageFolder(\n",
    "    \"data/cloud_train\",\n",
    "    transform =  train_transform,\n",
    ")"
   ]
  },
  {
   "cell_type": "code",
   "execution_count": null,
   "id": "a445ddca-c6e6-4e5c-9cfd-4419fa10cccf",
   "metadata": {
    "scrolled": true
   },
   "outputs": [],
   "source": [
    "dataloader_train = DataLoader(\n",
    "    dataset_train,batch_size =2,shuffle=True\n",
    ")\n",
    "\n",
    "image, label = next(iter(datalaoder_train))\n",
    "print(image.shape)\n",
    "[1,3,128,128]\n",
    "# 1,3 size of color channel"
   ]
  },
  {
   "cell_type": "code",
   "execution_count": null,
   "id": "29dc3b6e-ab28-44a2-af62-d4b615945e58",
   "metadata": {},
   "outputs": [],
   "source": [
    "imae = image.squeeze().permute(1,2,0)\n",
    "plt.imshow(image)\n",
    "plt.show()"
   ]
  },
  {
   "attachments": {
    "a02eff31-7ded-43f5-949a-e86b99b6bba8.png": {
     "image/png": "[encoded data removed]"
    }
   },
   "cell_type": "markdown",
   "id": "24148063-e49c-41cb-bf24-182acd9e8f3e",
   "metadata": {},
   "source": [
    "# Augmenting\n",
    "![image.png](attachment:a02eff31-7ded-43f5-949a-e86b99b6bba8.png)"
   ]
  },
  {
   "cell_type": "code",
   "execution_count": null,
   "id": "56470bf3-404f-40eb-971c-9a61b9d3f1e1",
   "metadata": {},
   "outputs": [],
   "source": [
    "train_transform = transforms.Compose([\n",
    "    transforms.RandomHorizontalFlip(),\n",
    "    transforms.RandomRotation(45),\n",
    "    transforms.ToTensor(),\n",
    "    transforms.Resize((128,128))\n",
    "])"
   ]
  },
  {
   "cell_type": "markdown",
   "id": "68f7425c-1e1f-455e-87de-460f5beaa4d5",
   "metadata": {},
   "source": [
    "# CNN"
   ]
  },
  {
   "cell_type": "code",
   "execution_count": null,
   "id": "6bd12d33-f4d3-4873-bf45-d6c983135b27",
   "metadata": {},
   "outputs": [],
   "source": [
    "n..Conv2d(\n",
    "    3,32,kernal_szie=3,padding=1\n",
    ")"
   ]
  },
  {
   "cell_type": "code",
   "execution_count": null,
   "id": "0190f70a-57e4-44c9-9663-3111b7d0adbc",
   "metadata": {},
   "outputs": [],
   "source": [
    "nn.MaxPool2d(kernal_size=2)"
   ]
  },
  {
   "cell_type": "code",
   "execution_count": null,
   "id": "b04ba7d9-2b09-4bd7-971f-7318e5bc47fc",
   "metadata": {},
   "outputs": [],
   "source": [
    "class Net(nn.Module):\n",
    "    def __init__(self, num_classes):\n",
    "        super().__init__()\n",
    "        # Define feature extractor\n",
    "        self.feature_extractor = nn.Sequential(\n",
    "            nn.Conv2d(3, 32, kernel_size=3, padding=1),\n",
    "            nn.ELU(),\n",
    "            nn.MaxPool2d(kernel_size=2),\n",
    "            nn.Conv2d(32, 64, kernel_size=3, padding=1),\n",
    "            nn.ELU(),\n",
    "            nn.MaxPool2d(kernel_size=2),\n",
    "            nn.Flatten(),\n",
    "        )\n",
    "        # Define classifier\n",
    "        self.classifier = nn.Linear(64*16*16, num_classes)\n",
    "    \n",
    "    def forward(self, x):  \n",
    "        # Pass input through feature extractor and classifier\n",
    "        x = self.feature_extractor(x);\n",
    "        x = self.classifier(x)\n",
    "        return x"
   ]
  },
  {
   "cell_type": "markdown",
   "id": "527f70a7-615c-4317-b25f-16e033a4f442",
   "metadata": {},
   "source": [
    "Binary = BCE Loss <br>\n",
    "Multi class = cross entropy"
   ]
  },
  {
   "cell_type": "code",
   "execution_count": null,
   "id": "79e743c7-e9e4-4285-a633-5def0ff562fb",
   "metadata": {},
   "outputs": [],
   "source": [
    "net= Net(7)\n",
    "criterion = nn.CrossEntropyLoss()\n",
    "optimizer= optim.Adam(net.parameters(),lr=0.001)"
   ]
  },
  {
   "cell_type": "code",
   "execution_count": null,
   "id": "ff916c52-8cfd-4d74-910a-836f29b47905",
   "metadata": {},
   "outputs": [],
   "source": [
    "for epoch in range(10):\n",
    "    for images, labels in dataloader_train:\n",
    "        optimzer.zero_grad()\n",
    "        outputs = net(images)\n",
    "        loss = criterion(outputs,labels)\n",
    "        loss.backward()\n",
    "        opy=timizer.step()"
   ]
  },
  {
   "cell_type": "markdown",
   "id": "619a60f6-4000-4f3e-b447-c3af55f021c4",
   "metadata": {},
   "source": [
    "# Evaluation of Classifocation across classes"
   ]
  },
  {
   "cell_type": "code",
   "execution_count": null,
   "id": "f744be8e-7efb-4a8c-b8a9-3c999b44e7e1",
   "metadata": {},
   "outputs": [],
   "source": [
    "\n",
    "from torchmetrics import Recall\n",
    "recall_per_class = Recall(task=\"multiclass\", num_classes=7, average=None) \n",
    "recall_micro = Recall(task=\"multiclass\", num_classes=7, average=\"micro\") #imbalanced dataset\n",
    "recall_macro = Recall(task=\"multiclass\", num_classes=7, average=\"macro\") #perfomance on small data\n",
    "recall weighted Recall(task=\"multiclass\", num_classes=7, average=\"weighted\") # error in lg classes as more imp\n",
    "="
   ]
  },
  {
   "cell_type": "code",
   "execution_count": null,
   "id": "b7e08bed-a22e-48ee-965a-844ef36662da",
   "metadata": {},
   "outputs": [],
   "source": [
    "pip install torchmetrics"
   ]
  },
  {
   "cell_type": "code",
   "execution_count": null,
   "id": "f7387944-68aa-4e8b-bc61-f971a5eb192a",
   "metadata": {},
   "outputs": [],
   "source": [
    "from torchmetrics import Precision, Recall\n",
    "\n",
    "metric_precision = Precision(\n",
    "task=\"multiclass\", num_classes=7, average=\"macro\")\n",
    "\n",
    "metric_recall = Recall(\n",
    "task=\"multiclass\", num_classes=7, average=\"macro\")\n",
    "\n",
    "net.eval()\n",
    "with torch.no_grad():\n",
    "    for images, labels in dataloader_test:\n",
    "        outputs = net (images)\n",
    "        _, preds = torch.max(outputs, 1) \n",
    "        metric_precision (preds, labels)\n",
    "        metric_recall(preds, labels)\n",
    "precision = metric_precision.compute() \n",
    "recall = metric_recall.compute()"
   ]
  },
  {
   "cell_type": "code",
   "execution_count": null,
   "id": "5fcff0a8-1ed3-411c-a4d3-221fb8597f6c",
   "metadata": {},
   "outputs": [],
   "source": [
    "metric_recall = Recall(\n",
    "task=\"multiclass\", num_classes=7, average=\"none\")\n",
    "\n",
    "net.eval()\n",
    "with torch.no_grad():\n",
    "    for images, labels in dataloader_test:\n",
    "        outputs = net (images)\n",
    "        _, preds = torch.max(outputs, 1) \n",
    "        metric_recall(preds, labels)\n",
    "        \n",
    "recall = metric_recall.compute()\n",
    "dataset_test.class_to_idx"
   ]
  },
  {
   "cell_type": "code",
   "execution_count": null,
   "id": "d1433e86-ffa8-4f43-a432-1290bc72c294",
   "metadata": {},
   "outputs": [],
   "source": [
    "{\n",
    "    k : recall[v].item() for k,v in dataset_test.class_to_idx,items()\n",
    "}"
   ]
  },
  {
   "cell_type": "markdown",
   "id": "03846dfa-bc91-465d-99a2-d15d5f6d2256",
   "metadata": {},
   "source": [
    "# Handling sequences with PyTorch"
   ]
  },
  {
   "cell_type": "code",
   "execution_count": null,
   "id": "3d01dcc3-e97d-4dc7-b994-ecef98725792",
   "metadata": {},
   "outputs": [],
   "source": []
  }
 ],
 "metadata": {
  "kernelspec": {
   "display_name": "DL Env",
   "language": "python",
   "name": "global_env"
  },
  "language_info": {
   "codemirror_mode": {
    "name": "ipython",
    "version": 3
   },
   "file_extension": ".py",
   "mimetype": "text/x-python",
   "name": "python",
   "nbconvert_exporter": "python",
   "pygments_lexer": "ipython3",
   "version": "3.9.15"
  }
 },
 "nbformat": 4,
 "nbformat_minor": 5
}
