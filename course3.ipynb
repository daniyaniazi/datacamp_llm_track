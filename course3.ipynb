{
 "cells": [
  {
   "cell_type": "markdown",
   "id": "56f1db04-272d-4061-bd83-6d249d9c51e3",
   "metadata": {},
   "source": [
    "# Deep Learning for Text with PyTorch "
   ]
  },
  {
   "cell_type": "markdown",
   "id": "8fb02f3c-40ff-44eb-a034-f786f7c9a374",
   "metadata": {},
   "source": [
    "conda install pytorch==2.3.1 torchvision==0.18.1 torchaudio==2.3.1 cpuonly -c pytorch \n",
    "pip install torchtext"
   ]
  },
  {
   "attachments": {
    "422a33dc-00de-458b-86ed-93740dc16baa.png": {
     "image/png": "[encoded data removed]"
    }
   },
   "cell_type": "markdown",
   "id": "a738efcb-b417-4c1a-9685-3f9916021b92",
   "metadata": {},
   "source": [
    "# Data Preprocessing\n",
    "![image.png](attachment:422a33dc-00de-458b-86ed-93740dc16baa.png)"
   ]
  },
  {
   "cell_type": "code",
   "execution_count": 1,
   "id": "c87b1d95-3f3f-4880-8428-3ec3d6aa66bd",
   "metadata": {},
   "outputs": [
    {
     "name": "stderr",
     "output_type": "stream",
     "text": [
      "C:\\Users\\farih\\anaconda3\\envs\\dl_env\\lib\\site-packages\\torchtext\\data\\__init__.py:4: UserWarning: \n",
      "/!\\ IMPORTANT WARNING ABOUT TORCHTEXT STATUS /!\\ \n",
      "Torchtext is deprecated and the last released version will be 0.18 (this one). You can silence this warning by calling the following at the beginnign of your scripts: `import torchtext; torchtext.disable_torchtext_deprecation_warning()`\n",
      "  warnings.warn(torchtext._TORCHTEXT_DEPRECATION_MSG)\n"
     ]
    }
   ],
   "source": [
    "from torchtext.data.utils import get_tokenizer"
   ]
  },
  {
   "cell_type": "code",
   "execution_count": 5,
   "id": "95a5a5f2-a117-433e-9f7b-0d0c50b982e3",
   "metadata": {},
   "outputs": [
    {
     "name": "stdout",
     "output_type": "stream",
     "text": [
      "['i', 'am', 'reading', 'a', 'book', 'now', '.', 'i', 'love', 'to', 'read', 'books', '!']\n"
     ]
    }
   ],
   "source": [
    "tokenizer = get_tokenizer(\"basic_english\")\n",
    "tokens = tokenizer(\"I am reading a book now. I love to read books!\") \n",
    "print(tokens)"
   ]
  },
  {
   "cell_type": "code",
   "execution_count": 7,
   "id": "0e96935a-fcf9-4cbb-9636-9a0346d5cec6",
   "metadata": {},
   "outputs": [
    {
     "name": "stderr",
     "output_type": "stream",
     "text": [
      "[nltk_data] Downloading package stopwords to\n",
      "[nltk_data]     C:\\Users\\farih\\AppData\\Roaming\\nltk_data...\n",
      "[nltk_data]   Unzipping corpora\\stopwords.zip.\n"
     ]
    }
   ],
   "source": [
    "\n",
    "import nltk\n",
    "nltk.download('stopwords')\n",
    "from nltk.corpus import stopwords"
   ]
  },
  {
   "cell_type": "code",
   "execution_count": 9,
   "id": "7d8c01dc-6652-4b75-b112-8af836576682",
   "metadata": {},
   "outputs": [],
   "source": [
    "stop_words = set (stopwords.words ('english'))\n",
    "tokens = [\"I\", \"am\", \"reading\", \"a\", \"book\", \"now\", \"books\", \"!\"]\n",
    "\"I\", \"Love\", \"to\", \"read\",\n",
    "filtered_tokens = [token for token in tokens if token.lower() not in stop_words]"
   ]
  },
  {
   "cell_type": "code",
   "execution_count": 11,
   "id": "d4e51e8e-1134-48ef-84ba-12eb99243774",
   "metadata": {},
   "outputs": [
    {
     "data": {
      "text/plain": [
       "['reading', 'book', 'books', '!']"
      ]
     },
     "execution_count": 11,
     "metadata": {},
     "output_type": "execute_result"
    }
   ],
   "source": [
    "filtered_tokens"
   ]
  },
  {
   "cell_type": "code",
   "execution_count": 23,
   "id": "9bf0dc7c-d0ba-4a88-99d7-b060c2686db6",
   "metadata": {},
   "outputs": [
    {
     "name": "stdout",
     "output_type": "stream",
     "text": [
      "['read', 'book', '.', 'love', 'read', 'book', '!']\n"
     ]
    }
   ],
   "source": [
    "import nltk\n",
    "from nltk.stem import PorterStemmer\n",
    "stemmer = PorterStemmer()\n",
    "filtered_tokens = [\"reading\", \"book\", \".\", \"loving\", \"read\", \"books\", \"!\"]\n",
    "stemmed_tokens = [stemmer.stem(token) for token in filtered_tokens]\n",
    "print(stemmed_tokens)"
   ]
  },
  {
   "cell_type": "code",
   "execution_count": 32,
   "id": "00333080-c3c4-48fa-b22a-915540696e64",
   "metadata": {},
   "outputs": [
    {
     "name": "stdout",
     "output_type": "stream",
     "text": [
      "['read', 'book', 'read', 'book']\n"
     ]
    }
   ],
   "source": [
    "from nltk.probability import FreqDist\n",
    "stemmed_tokens= [\"read\", \"book\", \".\", \"love\", \"read\", \"book\", \"!\"]\n",
    "freq_dist =FreqDist(stemmed_tokens)\n",
    "threshold = 2\n",
    "common_tokens = [token for token in stemmed_tokens if freq_dist[token] >= threshold] \n",
    "print(common_tokens)"
   ]
  },
  {
   "cell_type": "markdown",
   "id": "e402ffe0-3e70-4ee3-85d5-5da6a89f2a07",
   "metadata": {},
   "source": [
    "# Encoding"
   ]
  },
  {
   "cell_type": "code",
   "execution_count": 37,
   "id": "9771e105-dc60-4c58-bbcd-2b8feae0ac3d",
   "metadata": {},
   "outputs": [
    {
     "name": "stdout",
     "output_type": "stream",
     "text": [
      "{'cat': tensor([1., 0., 0.]), 'dog': tensor([0., 1., 0.]), 'rabbit': tensor([0., 0., 1.])}\n"
     ]
    }
   ],
   "source": [
    "import torch\n",
    "vocab = ['cat', 'dog', 'rabbit']\n",
    "vocab_size = len(vocab)\n",
    "one_hot_vectors = torch.eye(vocab_size)\n",
    "\n",
    "one_hot_dict = {word: one_hot_vectors [i] for i, word in enumerate (vocab)} \n",
    "print(one_hot_dict)"
   ]
  },
  {
   "cell_type": "code",
   "execution_count": 39,
   "id": "f03dacd7-7f3f-4b6b-ad0d-8b89f13a987a",
   "metadata": {},
   "outputs": [
    {
     "name": "stdout",
     "output_type": "stream",
     "text": [
      "[[0 1 1 1 0 0 1 0 1]\n",
      " [0 2 0 1 0 1 1 0 1]\n",
      " [1 0 0 1 1 0 1 1 1]\n",
      " [0 1 1 1 0 0 1 0 1]]\n",
      "['and' 'document' 'first' 'is' 'one' 'second' 'the' 'third' 'this']\n"
     ]
    }
   ],
   "source": [
    "from sklearn.feature_extraction.text import CountVectorizer\n",
    "vectorizer = CountVectorizer()\n",
    "corpus = ['This is the first document.', 'This document is the second document.',\n",
    "'And this is the third one.', 'Is this the first document?']\n",
    "X = vectorizer.fit_transform(corpus)\n",
    "print(X.toarray())\n",
    "print(vectorizer.get_feature_names_out())\n",
    "# Output term frequecy matrix"
   ]
  },
  {
   "cell_type": "markdown",
   "id": "37e9f8e4-f62a-425f-b23c-7385ab91b9a6",
   "metadata": {},
   "source": [
    "TFID : across all documents - emphasizes informative words in text data <br>\n",
    "Lower score - common words <br>\n",
    "Higher score - rare words"
   ]
  },
  {
   "cell_type": "code",
   "execution_count": 46,
   "id": "dace0e79-4fdd-4a82-8deb-ded4e284b73a",
   "metadata": {},
   "outputs": [
    {
     "name": "stdout",
     "output_type": "stream",
     "text": [
      "[[0.         0.46979139 0.58028582 0.38408524 0.         0.\n",
      "  0.38408524 0.         0.38408524]\n",
      " [0.         0.6876236  0.         0.28108867 0.         0.53864762\n",
      "  0.28108867 0.         0.28108867]\n",
      " [0.51184851 0.         0.         0.26710379 0.51184851 0.\n",
      "  0.26710379 0.51184851 0.26710379]\n",
      " [0.         0.46979139 0.58028582 0.38408524 0.         0.\n",
      "  0.38408524 0.         0.38408524]]\n",
      "['and' 'document' 'first' 'is' 'one' 'second' 'the' 'third' 'this']\n"
     ]
    }
   ],
   "source": [
    "from sklearn.feature_extraction.text import TfidfVectorizer\n",
    "vectorizer = TfidfVectorizer()\n",
    "corpus = ['This is the first document.', 'This document is the second document.',\n",
    "'And this is the third one.', 'Is this the first document?']\n",
    "X = vectorizer.fit_transform(corpus)\n",
    "print(X.toarray())\n",
    "print(vectorizer.get_feature_names_out())"
   ]
  },
  {
   "cell_type": "code",
   "execution_count": 50,
   "id": "1085f1e1-0248-499f-a0a3-30bba6e7d3e6",
   "metadata": {},
   "outputs": [],
   "source": [
    "# Import libraries\n",
    "from torch.utils.data import Dataset, DataLoader # Create a class\n",
    "class TextDataset (Dataset):\n",
    "    def __init__(self, text):\n",
    "        self.text = text\n",
    "    def __len__(self):\n",
    "        return len(self.text)\n",
    "    def __getitem__(self, idx):\n",
    "        return self.text[idx]"
   ]
  },
  {
   "cell_type": "code",
   "execution_count": 54,
   "id": "32b8de64-75f0-42c9-a75e-17bfe59887e2",
   "metadata": {},
   "outputs": [],
   "source": [
    "\n",
    "def preprocess_sentences (sentences):\n",
    "    processed_sentences = []\n",
    "    for sentence in sentences:\n",
    "        sentence = sentence.Lower() \n",
    "        tokens=tokenizer (sentence)\n",
    "        tokens = [token for token in tokens if token not in stop_words]\n",
    "        tokens = [stemmer.stem(token) for token in tokens]\n",
    "        freq_dist= FreqDist(tokens)\n",
    "        threshold = 2\n",
    "        tokens = [token for token in tokens if freq_dist[token] > threshold]\n",
    "        processed_sentences.append( ' '.join(tokens))\n",
    "        return processed_sentences"
   ]
  },
  {
   "cell_type": "code",
   "execution_count": 61,
   "id": "92849c86-a395-4997-ba89-05f63891ebfa",
   "metadata": {},
   "outputs": [],
   "source": [
    "def encode_sentences (sentences):\n",
    "    vectorizer = CountVectorizer()\n",
    "    X=vectorizer.fit_transform(sentences)\n",
    "    encoded_sentences = X.toarray()\n",
    "    return encoded_sentences, vectorizer"
   ]
  },
  {
   "cell_type": "code",
   "execution_count": 63,
   "id": "3a11ef74-2b1b-406b-a301-f25553b60dac",
   "metadata": {},
   "outputs": [],
   "source": [
    "def extract_sentences (data):\n",
    "    sentences = re.findall(r'[A-Z] [^.!?]*[.!?]',data)\n",
    "    return sentences"
   ]
  },
  {
   "cell_type": "markdown",
   "id": "a19bc40d-2a75-46cc-b717-b410dee88f77",
   "metadata": {},
   "source": [
    "# Text Preprocessing pipeline"
   ]
  },
  {
   "cell_type": "code",
   "execution_count": 65,
   "id": "f61d9fd1-9b57-42d9-abb0-d176ae115171",
   "metadata": {},
   "outputs": [],
   "source": [
    "def text_processing_pipeline(text):\n",
    "    tokens = preprocess_sentences (text)\n",
    "    encoded_sentences, vectorizer = encode_sentences(tokens) \n",
    "    dataset = TextDataset(encoded_sentences)\n",
    "    dataloader = DataLoader(dataset, batch_size=2, shuffle=True) \n",
    "    return dataloader, vectorizer"
   ]
  },
  {
   "cell_type": "code",
   "execution_count": 67,
   "id": "c5e59b67-92a3-4dd9-b0fb-9844fdeb4199",
   "metadata": {},
   "outputs": [
    {
     "ename": "NameError",
     "evalue": "name 're' is not defined",
     "output_type": "error",
     "traceback": [
      "\u001b[1;31m---------------------------------------------------------------------------\u001b[0m",
      "\u001b[1;31mNameError\u001b[0m                                 Traceback (most recent call last)",
      "Cell \u001b[1;32mIn[67], line 2\u001b[0m\n\u001b[0;32m      1\u001b[0m text_data \u001b[38;5;241m=\u001b[39m \u001b[38;5;124m\"\u001b[39m\u001b[38;5;124mThis is the first text data. And here is another one.\u001b[39m\u001b[38;5;124m\"\u001b[39m\n\u001b[1;32m----> 2\u001b[0m sentences \u001b[38;5;241m=\u001b[39m \u001b[43mextract_sentences\u001b[49m\u001b[43m(\u001b[49m\u001b[43mtext_data\u001b[49m\u001b[43m)\u001b[49m\n\u001b[0;32m      3\u001b[0m dataloaders, vectorizer \u001b[38;5;241m=\u001b[39m [text_processing_pipeline (text) \u001b[38;5;28;01mfor\u001b[39;00m text \u001b[38;5;129;01min\u001b[39;00m sentences]\n\u001b[0;32m      4\u001b[0m \u001b[38;5;28mprint\u001b[39m(\u001b[38;5;28mnext\u001b[39m(\u001b[38;5;28miter\u001b[39m(data_loader))[\u001b[38;5;241m0\u001b[39m,:\u001b[38;5;241m10\u001b[39m])\n",
      "Cell \u001b[1;32mIn[63], line 2\u001b[0m, in \u001b[0;36mextract_sentences\u001b[1;34m(data)\u001b[0m\n\u001b[0;32m      1\u001b[0m \u001b[38;5;28;01mdef\u001b[39;00m \u001b[38;5;21mextract_sentences\u001b[39m (data):\n\u001b[1;32m----> 2\u001b[0m     sentences \u001b[38;5;241m=\u001b[39m \u001b[43mre\u001b[49m\u001b[38;5;241m.\u001b[39mfindall(\u001b[38;5;124mr\u001b[39m\u001b[38;5;124m'\u001b[39m\u001b[38;5;124m[A-Z] [^.!?]*[.!?]\u001b[39m\u001b[38;5;124m'\u001b[39m,data)\n\u001b[0;32m      3\u001b[0m     \u001b[38;5;28;01mreturn\u001b[39;00m sentences\n",
      "\u001b[1;31mNameError\u001b[0m: name 're' is not defined"
     ]
    }
   ],
   "source": [
    "text_data = \"This is the first text data. And here is another one.\"\n",
    "sentences = extract_sentences(text_data)\n",
    "dataloaders, vectorizer = [text_processing_pipeline (text) for text in sentences]\n",
    "print(next(iter(data_loader))[0,:10])"
   ]
  }
 ],
 "metadata": {
  "kernelspec": {
   "display_name": "DL Env",
   "language": "python",
   "name": "global_env"
  },
  "language_info": {
   "codemirror_mode": {
    "name": "ipython",
    "version": 3
   },
   "file_extension": ".py",
   "mimetype": "text/x-python",
   "name": "python",
   "nbconvert_exporter": "python",
   "pygments_lexer": "ipython3",
   "version": "3.9.15"
  }
 },
 "nbformat": 4,
 "nbformat_minor": 5
}
